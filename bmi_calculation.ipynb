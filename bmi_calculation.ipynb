{
 "cells": [
  {
   "cell_type": "markdown",
   "metadata": {},
   "source": [
    "# BMI Calculator"
   ]
  },
  {
   "cell_type": "code",
   "execution_count": 1,
   "metadata": {},
   "outputs": [
    {
     "name": "stdout",
     "output_type": "stream",
     "text": [
      "Hello Moses. Welcome to our BMI calculation system\n"
     ]
    }
   ],
   "source": [
    "name = input(\"What is your name: \")\n",
    "print(f\"Hello {name}. Welcome to our BMI calculation system\")"
   ]
  },
  {
   "cell_type": "code",
   "execution_count": 4,
   "metadata": {},
   "outputs": [
    {
     "name": "stdout",
     "output_type": "stream",
     "text": [
      "Provide us with the information below:\n",
      "=============BMI RESULTS=============\n",
      "Your BMI is: 24.22\n",
      "Normal\n"
     ]
    }
   ],
   "source": [
    "print(\"Provide us with the information below:\")\n",
    "weight = float(input(\"Enter your weight: Kgs \"))\n",
    "height = float(input(\"Enter your height: metres \"))\n",
    "\n",
    "BMI = round(weight/(height * height), 2)\n",
    "\n",
    "print(\"=============BMI RESULTS=============\")\n",
    "print(f\"Your BMI is: {BMI}\")\n",
    "\n",
    "if BMI > 25:\n",
    "    print(\"Overweight\")\n",
    "elif BMI < 18:\n",
    "    print(\"Underweight\")\n",
    "else:\n",
    "    print(\"Normal\")"
   ]
  },
  {
   "cell_type": "code",
   "execution_count": null,
   "metadata": {},
   "outputs": [],
   "source": []
  }
 ],
 "metadata": {
  "kernelspec": {
   "display_name": "learn-env",
   "language": "python",
   "name": "python3"
  },
  "language_info": {
   "codemirror_mode": {
    "name": "ipython",
    "version": 3
   },
   "file_extension": ".py",
   "mimetype": "text/x-python",
   "name": "python",
   "nbconvert_exporter": "python",
   "pygments_lexer": "ipython3",
   "version": "3.8.5"
  }
 },
 "nbformat": 4,
 "nbformat_minor": 2
}
